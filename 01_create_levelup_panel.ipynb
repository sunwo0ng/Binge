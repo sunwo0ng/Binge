{
 "cells": [
  {
   "cell_type": "markdown",
   "metadata": {},
   "source": [
    "## Objectives\n",
    "- Raw tables(ex. levelup, login, death)를 읽어오고, config.py에서 정의한 simple_preprocess 함수를 통해 간단히 전처리한다.\n",
    "- Sample selection을 실시한다.\n",
    "- 캐릭터별로 레벨업한 트랜잭션이 기록된 panel data를 생성한다.\n",
    "- 이후 이어지는 노트북들에서는 본 노트북에서 생성된 panel data에 feature를 추가해나간다."
   ]
  },
  {
   "cell_type": "code",
   "execution_count": 1,
   "metadata": {},
   "outputs": [],
   "source": [
    "from config import *"
   ]
  },
  {
   "cell_type": "code",
   "execution_count": 2,
   "metadata": {},
   "outputs": [],
   "source": [
    "# levelup history\n",
    "levelups = pd.read_csv(data_dir+\"characters_levelup.csv\", encoding=\"utf-8\")\n",
    "levelups.drop(columns=[\"id\",\"player_id\",\"character_id\",\"event_timestamp\"], inplace=True)\n",
    "levelups = simple_preprocess(levelups)\n",
    "levelups = levelups.sort_values(by=[\"event_datetime\",\"level_from\"]).reset_index(drop=True)"
   ]
  },
  {
   "cell_type": "code",
   "execution_count": 3,
   "metadata": {},
   "outputs": [],
   "source": [
    "# login history: player\n",
    "logins_p = pd.read_csv(data_dir+\"players_login.csv\", encoding=\"utf-8\")\n",
    "logins_p = logins_p[[\"player_slug\",\"event_datetime\"]]\n",
    "logins_p = simple_preprocess(logins_p)"
   ]
  },
  {
   "cell_type": "code",
   "execution_count": 4,
   "metadata": {},
   "outputs": [],
   "source": [
    "# login history: character\n",
    "logins_c = pd.read_csv(data_dir+\"characters_login.csv\", encoding=\"utf-8\")\n",
    "logins_c.drop(columns=[\"id\",\"player_id\",\"character_id\",\"event_timestamp\"], inplace=True)\n",
    "logins_c = simple_preprocess(logins_c)"
   ]
  },
  {
   "cell_type": "code",
   "execution_count": 5,
   "metadata": {},
   "outputs": [
    {
     "ename": "FileNotFoundError",
     "evalue": "[Errno 2] No such file or directory: '../data_raw/main-deaths.csv'",
     "output_type": "error",
     "traceback": [
      "\u001b[1;31m---------------------------------------------------------------------------\u001b[0m",
      "\u001b[1;31mFileNotFoundError\u001b[0m                         Traceback (most recent call last)",
      "Cell \u001b[1;32mIn[5], line 2\u001b[0m\n\u001b[0;32m      1\u001b[0m \u001b[38;5;66;03m# death history\u001b[39;00m\n\u001b[1;32m----> 2\u001b[0m deaths \u001b[38;5;241m=\u001b[39m \u001b[43mpd\u001b[49m\u001b[38;5;241;43m.\u001b[39;49m\u001b[43mread_csv\u001b[49m\u001b[43m(\u001b[49m\u001b[43mdata_dir\u001b[49m\u001b[38;5;241;43m+\u001b[39;49m\u001b[38;5;124;43m\"\u001b[39;49m\u001b[38;5;124;43mmain-deaths.csv\u001b[39;49m\u001b[38;5;124;43m\"\u001b[39;49m\u001b[43m,\u001b[49m\u001b[43m \u001b[49m\u001b[43mencoding\u001b[49m\u001b[38;5;241;43m=\u001b[39;49m\u001b[38;5;124;43m\"\u001b[39;49m\u001b[38;5;124;43mutf-8\u001b[39;49m\u001b[38;5;124;43m\"\u001b[39;49m\u001b[43m)\u001b[49m\n\u001b[0;32m      3\u001b[0m deaths \u001b[38;5;241m=\u001b[39m simple_preprocess(deaths)\n",
      "File \u001b[1;32mc:\\Users\\sunwoong\\AppData\\Local\\Programs\\Python\\Python311\\Lib\\site-packages\\pandas\\io\\parsers\\readers.py:948\u001b[0m, in \u001b[0;36mread_csv\u001b[1;34m(filepath_or_buffer, sep, delimiter, header, names, index_col, usecols, dtype, engine, converters, true_values, false_values, skipinitialspace, skiprows, skipfooter, nrows, na_values, keep_default_na, na_filter, verbose, skip_blank_lines, parse_dates, infer_datetime_format, keep_date_col, date_parser, date_format, dayfirst, cache_dates, iterator, chunksize, compression, thousands, decimal, lineterminator, quotechar, quoting, doublequote, escapechar, comment, encoding, encoding_errors, dialect, on_bad_lines, delim_whitespace, low_memory, memory_map, float_precision, storage_options, dtype_backend)\u001b[0m\n\u001b[0;32m    935\u001b[0m kwds_defaults \u001b[38;5;241m=\u001b[39m _refine_defaults_read(\n\u001b[0;32m    936\u001b[0m     dialect,\n\u001b[0;32m    937\u001b[0m     delimiter,\n\u001b[1;32m   (...)\u001b[0m\n\u001b[0;32m    944\u001b[0m     dtype_backend\u001b[38;5;241m=\u001b[39mdtype_backend,\n\u001b[0;32m    945\u001b[0m )\n\u001b[0;32m    946\u001b[0m kwds\u001b[38;5;241m.\u001b[39mupdate(kwds_defaults)\n\u001b[1;32m--> 948\u001b[0m \u001b[38;5;28;01mreturn\u001b[39;00m \u001b[43m_read\u001b[49m\u001b[43m(\u001b[49m\u001b[43mfilepath_or_buffer\u001b[49m\u001b[43m,\u001b[49m\u001b[43m \u001b[49m\u001b[43mkwds\u001b[49m\u001b[43m)\u001b[49m\n",
      "File \u001b[1;32mc:\\Users\\sunwoong\\AppData\\Local\\Programs\\Python\\Python311\\Lib\\site-packages\\pandas\\io\\parsers\\readers.py:611\u001b[0m, in \u001b[0;36m_read\u001b[1;34m(filepath_or_buffer, kwds)\u001b[0m\n\u001b[0;32m    608\u001b[0m _validate_names(kwds\u001b[38;5;241m.\u001b[39mget(\u001b[38;5;124m\"\u001b[39m\u001b[38;5;124mnames\u001b[39m\u001b[38;5;124m\"\u001b[39m, \u001b[38;5;28;01mNone\u001b[39;00m))\n\u001b[0;32m    610\u001b[0m \u001b[38;5;66;03m# Create the parser.\u001b[39;00m\n\u001b[1;32m--> 611\u001b[0m parser \u001b[38;5;241m=\u001b[39m \u001b[43mTextFileReader\u001b[49m\u001b[43m(\u001b[49m\u001b[43mfilepath_or_buffer\u001b[49m\u001b[43m,\u001b[49m\u001b[43m \u001b[49m\u001b[38;5;241;43m*\u001b[39;49m\u001b[38;5;241;43m*\u001b[39;49m\u001b[43mkwds\u001b[49m\u001b[43m)\u001b[49m\n\u001b[0;32m    613\u001b[0m \u001b[38;5;28;01mif\u001b[39;00m chunksize \u001b[38;5;129;01mor\u001b[39;00m iterator:\n\u001b[0;32m    614\u001b[0m     \u001b[38;5;28;01mreturn\u001b[39;00m parser\n",
      "File \u001b[1;32mc:\\Users\\sunwoong\\AppData\\Local\\Programs\\Python\\Python311\\Lib\\site-packages\\pandas\\io\\parsers\\readers.py:1448\u001b[0m, in \u001b[0;36mTextFileReader.__init__\u001b[1;34m(self, f, engine, **kwds)\u001b[0m\n\u001b[0;32m   1445\u001b[0m     \u001b[38;5;28mself\u001b[39m\u001b[38;5;241m.\u001b[39moptions[\u001b[38;5;124m\"\u001b[39m\u001b[38;5;124mhas_index_names\u001b[39m\u001b[38;5;124m\"\u001b[39m] \u001b[38;5;241m=\u001b[39m kwds[\u001b[38;5;124m\"\u001b[39m\u001b[38;5;124mhas_index_names\u001b[39m\u001b[38;5;124m\"\u001b[39m]\n\u001b[0;32m   1447\u001b[0m \u001b[38;5;28mself\u001b[39m\u001b[38;5;241m.\u001b[39mhandles: IOHandles \u001b[38;5;241m|\u001b[39m \u001b[38;5;28;01mNone\u001b[39;00m \u001b[38;5;241m=\u001b[39m \u001b[38;5;28;01mNone\u001b[39;00m\n\u001b[1;32m-> 1448\u001b[0m \u001b[38;5;28mself\u001b[39m\u001b[38;5;241m.\u001b[39m_engine \u001b[38;5;241m=\u001b[39m \u001b[38;5;28;43mself\u001b[39;49m\u001b[38;5;241;43m.\u001b[39;49m\u001b[43m_make_engine\u001b[49m\u001b[43m(\u001b[49m\u001b[43mf\u001b[49m\u001b[43m,\u001b[49m\u001b[43m \u001b[49m\u001b[38;5;28;43mself\u001b[39;49m\u001b[38;5;241;43m.\u001b[39;49m\u001b[43mengine\u001b[49m\u001b[43m)\u001b[49m\n",
      "File \u001b[1;32mc:\\Users\\sunwoong\\AppData\\Local\\Programs\\Python\\Python311\\Lib\\site-packages\\pandas\\io\\parsers\\readers.py:1705\u001b[0m, in \u001b[0;36mTextFileReader._make_engine\u001b[1;34m(self, f, engine)\u001b[0m\n\u001b[0;32m   1703\u001b[0m     \u001b[38;5;28;01mif\u001b[39;00m \u001b[38;5;124m\"\u001b[39m\u001b[38;5;124mb\u001b[39m\u001b[38;5;124m\"\u001b[39m \u001b[38;5;129;01mnot\u001b[39;00m \u001b[38;5;129;01min\u001b[39;00m mode:\n\u001b[0;32m   1704\u001b[0m         mode \u001b[38;5;241m+\u001b[39m\u001b[38;5;241m=\u001b[39m \u001b[38;5;124m\"\u001b[39m\u001b[38;5;124mb\u001b[39m\u001b[38;5;124m\"\u001b[39m\n\u001b[1;32m-> 1705\u001b[0m \u001b[38;5;28mself\u001b[39m\u001b[38;5;241m.\u001b[39mhandles \u001b[38;5;241m=\u001b[39m \u001b[43mget_handle\u001b[49m\u001b[43m(\u001b[49m\n\u001b[0;32m   1706\u001b[0m \u001b[43m    \u001b[49m\u001b[43mf\u001b[49m\u001b[43m,\u001b[49m\n\u001b[0;32m   1707\u001b[0m \u001b[43m    \u001b[49m\u001b[43mmode\u001b[49m\u001b[43m,\u001b[49m\n\u001b[0;32m   1708\u001b[0m \u001b[43m    \u001b[49m\u001b[43mencoding\u001b[49m\u001b[38;5;241;43m=\u001b[39;49m\u001b[38;5;28;43mself\u001b[39;49m\u001b[38;5;241;43m.\u001b[39;49m\u001b[43moptions\u001b[49m\u001b[38;5;241;43m.\u001b[39;49m\u001b[43mget\u001b[49m\u001b[43m(\u001b[49m\u001b[38;5;124;43m\"\u001b[39;49m\u001b[38;5;124;43mencoding\u001b[39;49m\u001b[38;5;124;43m\"\u001b[39;49m\u001b[43m,\u001b[49m\u001b[43m \u001b[49m\u001b[38;5;28;43;01mNone\u001b[39;49;00m\u001b[43m)\u001b[49m\u001b[43m,\u001b[49m\n\u001b[0;32m   1709\u001b[0m \u001b[43m    \u001b[49m\u001b[43mcompression\u001b[49m\u001b[38;5;241;43m=\u001b[39;49m\u001b[38;5;28;43mself\u001b[39;49m\u001b[38;5;241;43m.\u001b[39;49m\u001b[43moptions\u001b[49m\u001b[38;5;241;43m.\u001b[39;49m\u001b[43mget\u001b[49m\u001b[43m(\u001b[49m\u001b[38;5;124;43m\"\u001b[39;49m\u001b[38;5;124;43mcompression\u001b[39;49m\u001b[38;5;124;43m\"\u001b[39;49m\u001b[43m,\u001b[49m\u001b[43m \u001b[49m\u001b[38;5;28;43;01mNone\u001b[39;49;00m\u001b[43m)\u001b[49m\u001b[43m,\u001b[49m\n\u001b[0;32m   1710\u001b[0m \u001b[43m    \u001b[49m\u001b[43mmemory_map\u001b[49m\u001b[38;5;241;43m=\u001b[39;49m\u001b[38;5;28;43mself\u001b[39;49m\u001b[38;5;241;43m.\u001b[39;49m\u001b[43moptions\u001b[49m\u001b[38;5;241;43m.\u001b[39;49m\u001b[43mget\u001b[49m\u001b[43m(\u001b[49m\u001b[38;5;124;43m\"\u001b[39;49m\u001b[38;5;124;43mmemory_map\u001b[39;49m\u001b[38;5;124;43m\"\u001b[39;49m\u001b[43m,\u001b[49m\u001b[43m \u001b[49m\u001b[38;5;28;43;01mFalse\u001b[39;49;00m\u001b[43m)\u001b[49m\u001b[43m,\u001b[49m\n\u001b[0;32m   1711\u001b[0m \u001b[43m    \u001b[49m\u001b[43mis_text\u001b[49m\u001b[38;5;241;43m=\u001b[39;49m\u001b[43mis_text\u001b[49m\u001b[43m,\u001b[49m\n\u001b[0;32m   1712\u001b[0m \u001b[43m    \u001b[49m\u001b[43merrors\u001b[49m\u001b[38;5;241;43m=\u001b[39;49m\u001b[38;5;28;43mself\u001b[39;49m\u001b[38;5;241;43m.\u001b[39;49m\u001b[43moptions\u001b[49m\u001b[38;5;241;43m.\u001b[39;49m\u001b[43mget\u001b[49m\u001b[43m(\u001b[49m\u001b[38;5;124;43m\"\u001b[39;49m\u001b[38;5;124;43mencoding_errors\u001b[39;49m\u001b[38;5;124;43m\"\u001b[39;49m\u001b[43m,\u001b[49m\u001b[43m \u001b[49m\u001b[38;5;124;43m\"\u001b[39;49m\u001b[38;5;124;43mstrict\u001b[39;49m\u001b[38;5;124;43m\"\u001b[39;49m\u001b[43m)\u001b[49m\u001b[43m,\u001b[49m\n\u001b[0;32m   1713\u001b[0m \u001b[43m    \u001b[49m\u001b[43mstorage_options\u001b[49m\u001b[38;5;241;43m=\u001b[39;49m\u001b[38;5;28;43mself\u001b[39;49m\u001b[38;5;241;43m.\u001b[39;49m\u001b[43moptions\u001b[49m\u001b[38;5;241;43m.\u001b[39;49m\u001b[43mget\u001b[49m\u001b[43m(\u001b[49m\u001b[38;5;124;43m\"\u001b[39;49m\u001b[38;5;124;43mstorage_options\u001b[39;49m\u001b[38;5;124;43m\"\u001b[39;49m\u001b[43m,\u001b[49m\u001b[43m \u001b[49m\u001b[38;5;28;43;01mNone\u001b[39;49;00m\u001b[43m)\u001b[49m\u001b[43m,\u001b[49m\n\u001b[0;32m   1714\u001b[0m \u001b[43m\u001b[49m\u001b[43m)\u001b[49m\n\u001b[0;32m   1715\u001b[0m \u001b[38;5;28;01massert\u001b[39;00m \u001b[38;5;28mself\u001b[39m\u001b[38;5;241m.\u001b[39mhandles \u001b[38;5;129;01mis\u001b[39;00m \u001b[38;5;129;01mnot\u001b[39;00m \u001b[38;5;28;01mNone\u001b[39;00m\n\u001b[0;32m   1716\u001b[0m f \u001b[38;5;241m=\u001b[39m \u001b[38;5;28mself\u001b[39m\u001b[38;5;241m.\u001b[39mhandles\u001b[38;5;241m.\u001b[39mhandle\n",
      "File \u001b[1;32mc:\\Users\\sunwoong\\AppData\\Local\\Programs\\Python\\Python311\\Lib\\site-packages\\pandas\\io\\common.py:872\u001b[0m, in \u001b[0;36mget_handle\u001b[1;34m(path_or_buf, mode, encoding, compression, memory_map, is_text, errors, storage_options)\u001b[0m\n\u001b[0;32m    863\u001b[0m         handle \u001b[38;5;241m=\u001b[39m \u001b[38;5;28mopen\u001b[39m(\n\u001b[0;32m    864\u001b[0m             handle,\n\u001b[0;32m    865\u001b[0m             ioargs\u001b[38;5;241m.\u001b[39mmode,\n\u001b[1;32m   (...)\u001b[0m\n\u001b[0;32m    868\u001b[0m             newline\u001b[38;5;241m=\u001b[39m\u001b[38;5;124m\"\u001b[39m\u001b[38;5;124m\"\u001b[39m,\n\u001b[0;32m    869\u001b[0m         )\n\u001b[0;32m    870\u001b[0m     \u001b[38;5;28;01melse\u001b[39;00m:\n\u001b[0;32m    871\u001b[0m         \u001b[38;5;66;03m# Binary mode\u001b[39;00m\n\u001b[1;32m--> 872\u001b[0m         handle \u001b[38;5;241m=\u001b[39m \u001b[38;5;28;43mopen\u001b[39;49m\u001b[43m(\u001b[49m\u001b[43mhandle\u001b[49m\u001b[43m,\u001b[49m\u001b[43m \u001b[49m\u001b[43mioargs\u001b[49m\u001b[38;5;241;43m.\u001b[39;49m\u001b[43mmode\u001b[49m\u001b[43m)\u001b[49m\n\u001b[0;32m    873\u001b[0m     handles\u001b[38;5;241m.\u001b[39mappend(handle)\n\u001b[0;32m    875\u001b[0m \u001b[38;5;66;03m# Convert BytesIO or file objects passed with an encoding\u001b[39;00m\n",
      "\u001b[1;31mFileNotFoundError\u001b[0m: [Errno 2] No such file or directory: '../data_raw/main-deaths.csv'"
     ]
    }
   ],
   "source": [
    "# death history\n",
    "deaths = pd.read_csv(data_dir+\"main-deaths.csv\", encoding=\"utf-8\")\n",
    "deaths = simple_preprocess(deaths)"
   ]
  },
  {
   "cell_type": "code",
   "execution_count": 6,
   "metadata": {},
   "outputs": [],
   "source": [
    "# ads watching history\n",
    "ads = pd.read_csv(data_dir+\"characters_ads.csv\", encoding=\"utf-8\").drop(columns=[\"id\"])\n",
    "ads = ads.query(\"ad_status=='start'\") # select started transactions only\n",
    "ads = simple_preprocess(ads)"
   ]
  },
  {
   "cell_type": "code",
   "execution_count": 7,
   "metadata": {},
   "outputs": [],
   "source": [
    "# purchase history\n",
    "purchases = pd.read_csv(data_dir+\"purchases.csv\", encoding=\"utf-8\")\n",
    "purchases.drop(columns=[\"id\",\"purchase_quantity\",\"purchase_unit_price\",\"purchase_currency_code\"], inplace=True)\n",
    "purchases = simple_preprocess(purchases)"
   ]
  },
  {
   "cell_type": "markdown",
   "metadata": {},
   "source": [
    "# Sample Players"
   ]
  },
  {
   "cell_type": "code",
   "execution_count": 8,
   "metadata": {},
   "outputs": [
    {
     "data": {
      "text/plain": [
       "148189"
      ]
     },
     "execution_count": 8,
     "metadata": {},
     "output_type": "execute_result"
    }
   ],
   "source": [
    "# list of sample players\n",
    "players = logins_p[[\"player_slug\"]].drop_duplicates().sort_values(by=\"player_slug\").reset_index(drop=True)\n",
    "\n",
    "# the day when each player registered\n",
    "players[\"dt_player_register\"] = players[\"player_slug\"].apply(lambda x: x[:-5].replace(\"T\",\" \"))\n",
    "players[\"dt_player_register\"] = pd.to_datetime(players[\"dt_player_register\"]) + datetime.timedelta(hours=9) # UTC to KST\n",
    "\n",
    "len(players)"
   ]
  },
  {
   "cell_type": "markdown",
   "metadata": {},
   "source": [
    "* Players who registered between November 1, 2021 and March 31, 2022"
   ]
  },
  {
   "cell_type": "code",
   "execution_count": 9,
   "metadata": {},
   "outputs": [
    {
     "name": "stdout",
     "output_type": "stream",
     "text": [
      "2272 dropped\n",
      "145917\n"
     ]
    }
   ],
   "source": [
    "a = len(players)\n",
    "players = players.query(\"@window_sday<=dt_player_register<=@window_eday\").reset_index(drop=True)\n",
    "b = len(players)\n",
    "print(a - b, \"dropped\")\n",
    "print(b)"
   ]
  },
  {
   "cell_type": "markdown",
   "metadata": {},
   "source": [
    "* Players who created only one character"
   ]
  },
  {
   "cell_type": "code",
   "execution_count": 10,
   "metadata": {},
   "outputs": [
    {
     "name": "stdout",
     "output_type": "stream",
     "text": [
      "82686 dropped\n",
      "63231\n"
     ]
    }
   ],
   "source": [
    "a = len(players)\n",
    "\n",
    "tmp = levelups.groupby(\"player_slug\")[\"character_slug\"].nunique()\n",
    "tmp = tmp[tmp==1].index\n",
    "players = players.query(\"player_slug in @tmp\").reset_index(drop=True)\n",
    "\n",
    "tmp = logins_c.groupby(\"player_slug\")[\"character_slug\"].nunique()\n",
    "tmp = tmp[tmp==1].index\n",
    "players = players.query(\"player_slug in @tmp\").reset_index(drop=True)\n",
    "\n",
    "b = len(players)\n",
    "print(a - b, \"dropped\")\n",
    "print(b)"
   ]
  },
  {
   "cell_type": "markdown",
   "metadata": {},
   "source": [
    "* Players whose level 1 is observed"
   ]
  },
  {
   "cell_type": "code",
   "execution_count": 11,
   "metadata": {},
   "outputs": [
    {
     "name": "stdout",
     "output_type": "stream",
     "text": [
      "639 dropped\n",
      "62592\n"
     ]
    }
   ],
   "source": [
    "a = len(players)\n",
    "\n",
    "# players whose level up from 1 to 2 is not observable\n",
    "tmp = levelups.groupby([\"player_slug\",\"character_slug\"])[\"level_from\"].min()\n",
    "tmp = tmp[tmp==1].reset_index()[\"player_slug\"].unique()\n",
    "players = players.query(\"player_slug in @tmp\").reset_index(drop=True)\n",
    "\n",
    "tmp = levelups.groupby([\"player_slug\",\"character_slug\"])[\"level_from\"].min()\n",
    "tmp = tmp[tmp!=1].reset_index()[\"player_slug\"].unique()\n",
    "players = players.query(\"player_slug not in @tmp\").reset_index(drop=True)\n",
    "\n",
    "b = len(players)\n",
    "print(a - b, \"dropped\")\n",
    "print(b)"
   ]
  },
  {
   "cell_type": "code",
   "execution_count": 12,
   "metadata": {},
   "outputs": [],
   "source": [
    "a = len(players)"
   ]
  },
  {
   "cell_type": "code",
   "execution_count": 13,
   "metadata": {},
   "outputs": [],
   "source": [
    "# players who have duplicated levelup transactions with the same character name\n",
    "# 1) recording error\n",
    "# 2) players who actually created at least two characters with the same name\n",
    "tmp = levelups.groupby([\"player_slug\",\"character_slug\",\"level_from\"]).size()\n",
    "tmp = tmp[tmp>1].reset_index().player_slug.unique()\n",
    "players = players.query(\"player_slug not in @tmp\").reset_index(drop=True)"
   ]
  },
  {
   "cell_type": "code",
   "execution_count": 14,
   "metadata": {},
   "outputs": [],
   "source": [
    "# 레벨업 1->2 duration 음수 나오거나 레벨업 시간 missing 있는 플레이어들\n",
    "tmp = ['2021-12-18T07:37:52.929Z','2021-12-19T05:01:11.551Z','2021-12-19T23:00:06.232Z','2021-12-17T12:46:39.821Z',\n",
    "       '2021-12-18T03:13:36.612Z','2021-12-23T07:53:20.294Z','2021-12-28T08:03:59.202Z','2021-12-31T16:05:54.060Z',\n",
    "       '2021-12-18T17:16:55.915Z','2021-12-24T14:01:23.800Z','2021-12-21T03:33:59.462Z',\n",
    "       \n",
    "       '2021-12-24T00:02:08.718Z','2021-12-23T02:21:04.360Z',\n",
    "       '2021-12-18T14:09:36.460Z','2021-12-24T13:41:09.863Z','2021-12-21T05:23:36.954Z']\n",
    "players = players.query(\"player_slug not in @tmp\").reset_index(drop=True)"
   ]
  },
  {
   "cell_type": "code",
   "execution_count": 15,
   "metadata": {},
   "outputs": [],
   "source": [
    "# players whose all level ups are observed\n",
    "tmp = levelups.groupby([\"player_slug\",\"character_slug\"]).size().to_frame(\"n_obs\").reset_index()\n",
    "tmp_ = levelups.groupby([\"player_slug\",\"character_slug\"]).level_from.min().to_frame(\"lv_min\").reset_index()\n",
    "tmp = pd.merge(tmp, tmp_)\n",
    "tmp_ = levelups.groupby([\"player_slug\",\"character_slug\"]).level_to.max().to_frame(\"lv_max\").reset_index()\n",
    "tmp = pd.merge(tmp, tmp_)\n",
    "tmp = tmp.query(\"lv_max-lv_min != n_obs\").player_slug.unique()\n",
    "players = players.query(\"player_slug not in @tmp\").reset_index(drop=True)"
   ]
  },
  {
   "cell_type": "code",
   "execution_count": 16,
   "metadata": {},
   "outputs": [
    {
     "name": "stdout",
     "output_type": "stream",
     "text": [
      "3250 dropped\n",
      "59342\n"
     ]
    }
   ],
   "source": [
    "b = len(players)\n",
    "print(a - b, \"dropped\")\n",
    "print(b)"
   ]
  },
  {
   "cell_type": "code",
   "execution_count": 17,
   "metadata": {},
   "outputs": [],
   "source": [
    "players.to_csv(\"../data/sample_players.csv\", index=None, encoding=\"utf-8\")"
   ]
  },
  {
   "cell_type": "markdown",
   "metadata": {},
   "source": [
    "* Apply the sample restriction to other tables"
   ]
  },
  {
   "cell_type": "code",
   "execution_count": 18,
   "metadata": {},
   "outputs": [],
   "source": [
    "levelups = levelups.query(\"player_slug in @players.player_slug.unique()\").reset_index(drop=True)\n",
    "logins_p = logins_p.query(\"player_slug in @players.player_slug.unique()\").reset_index(drop=True)\n",
    "logins_c = logins_c.query(\"player_slug in @players.player_slug.unique()\").reset_index(drop=True)\n",
    "deaths = deaths.query(\"player_slug in @players.player_slug.unique()\").reset_index(drop=True)\n",
    "ads = ads.query(\"player_slug in @players.player_slug.unique()\").reset_index(drop=True)\n",
    "purchases = purchases.query(\"player_slug in @players.player_slug.unique()\").reset_index(drop=True)"
   ]
  },
  {
   "cell_type": "markdown",
   "metadata": {},
   "source": [
    "# Character-Character Level-Level Panel"
   ]
  },
  {
   "cell_type": "code",
   "execution_count": 19,
   "metadata": {},
   "outputs": [],
   "source": [
    "levelups_ref = levelups.copy()"
   ]
  },
  {
   "cell_type": "markdown",
   "metadata": {},
   "source": [
    "* <code>death</code>: Total number of deaths occurred at each level"
   ]
  },
  {
   "cell_type": "code",
   "execution_count": 20,
   "metadata": {},
   "outputs": [],
   "source": [
    "deaths_ref = pd.merge_asof(deaths, levelups[[\"player_slug\",\"character_slug\",\"level_to\",\"event_datetime\"]],\n",
    "                           by=[\"player_slug\",\"character_slug\"], on=\"event_datetime\", direction=\"backward\").reset_index(drop=True)\n",
    "\n",
    "# character level when each death was made\n",
    "deaths_ref[\"level_to\"] = deaths_ref[\"level_to\"].fillna(1).astype(int)\n",
    "deaths_ref.rename(columns={\"level_to\":\"level_from\"}, inplace=True)\n",
    "\n",
    "# total deaths made at each character level\n",
    "tmp = deaths_ref.groupby([\"player_slug\",\"character_slug\",\"level_from\"]).size()\n",
    "levelups_ref = pd.merge(levelups_ref, tmp.to_frame(\"death\").reset_index(), how=\"left\")\n",
    "levelups_ref[\"death\"].fillna(0, inplace=True)"
   ]
  },
  {
   "cell_type": "markdown",
   "metadata": {},
   "source": [
    "* <code>ad_revival</code>: Total number of ads for revival watched at each level\n",
    "* <code>ad_item</code>: Total number of ads for items watched at each level"
   ]
  },
  {
   "cell_type": "code",
   "execution_count": 21,
   "metadata": {},
   "outputs": [],
   "source": [
    "# ads for revival\n",
    "ads_ref = pd.merge_asof(ads.query(\"ad_slug=='Revival'\"),\n",
    "                        levelups[[\"player_slug\",\"character_slug\",\"level_to\",\"event_datetime\"]],\n",
    "                        by=[\"player_slug\",\"character_slug\"], on=\"event_datetime\", direction=\"backward\").reset_index(drop=True)\n",
    "\n",
    "# character level when each ad was watched\n",
    "ads_ref[\"level_to\"] = ads_ref[\"level_to\"].fillna(1).astype(int)\n",
    "ads_ref.rename(columns={\"level_to\":\"level_from\"}, inplace=True)\n",
    "\n",
    "# number of ads watched at each character level\n",
    "tmp = ads_ref.groupby([\"player_slug\",\"character_slug\",\"level_from\"]).size()\n",
    "levelups_ref = pd.merge(levelups_ref, tmp.to_frame(\"ad_revival\").reset_index(), how=\"left\")\n",
    "levelups_ref[\"ad_revival\"].fillna(0, inplace=True)"
   ]
  },
  {
   "cell_type": "code",
   "execution_count": 22,
   "metadata": {},
   "outputs": [],
   "source": [
    "# ads for items\n",
    "ads_ref = pd.merge_asof(ads.query(\"ad_slug!='Revival'\"),\n",
    "                        levelups[[\"player_slug\",\"character_slug\",\"level_to\",\"event_datetime\"]],\n",
    "                        by=[\"player_slug\",\"character_slug\"], on=\"event_datetime\", direction=\"backward\").reset_index(drop=True)\n",
    "\n",
    "# character level when each ad was watched\n",
    "ads_ref[\"level_to\"] = ads_ref[\"level_to\"].fillna(1).astype(int)\n",
    "ads_ref.rename(columns={\"level_to\":\"level_from\"}, inplace=True)\n",
    "\n",
    "# number of ads watched at each character level\n",
    "tmp = ads_ref.groupby([\"player_slug\",\"character_slug\",\"level_from\"]).size()\n",
    "levelups_ref = pd.merge(levelups_ref, tmp.to_frame(\"ad_item\").reset_index(), how=\"left\")\n",
    "levelups_ref[\"ad_item\"].fillna(0, inplace=True)"
   ]
  },
  {
   "cell_type": "code",
   "execution_count": 23,
   "metadata": {},
   "outputs": [],
   "source": [
    "levelups_ref[\"ad_total\"] = levelups_ref[[\"ad_revival\",\"ad_item\"]].sum(axis=1)"
   ]
  },
  {
   "cell_type": "markdown",
   "metadata": {},
   "source": [
    "* <code>purchase</code>: Total purchases made at each level"
   ]
  },
  {
   "cell_type": "code",
   "execution_count": 24,
   "metadata": {},
   "outputs": [],
   "source": [
    "purchases_ref = pd.merge_asof(purchases, levelups[[\"player_slug\",\"character_slug\",\"level_to\",\"event_datetime\"]],\n",
    "                              by=[\"player_slug\",\"character_slug\"], on=\"event_datetime\", direction=\"backward\").reset_index(drop=True)\n",
    "\n",
    "# character level when each purchase was made\n",
    "purchases_ref[\"level_to\"] = purchases_ref[\"level_to\"].fillna(1).astype(int)\n",
    "purchases_ref.rename(columns={\"level_to\":\"level_from\"}, inplace=True)\n",
    "\n",
    "# total purchases made at each character level\n",
    "tmp = purchases_ref.groupby([\"player_slug\",\"character_slug\",\"level_from\"])[\"purchase_total_price\"].sum()\n",
    "levelups_ref = pd.merge(levelups_ref, tmp.to_frame(\"purchase\").reset_index(), how=\"left\")\n",
    "levelups_ref[\"purchase\"].fillna(0, inplace=True)"
   ]
  },
  {
   "cell_type": "markdown",
   "metadata": {},
   "source": [
    "* <code>interval</code>: Hours taken to progress to the next level"
   ]
  },
  {
   "cell_type": "code",
   "execution_count": 25,
   "metadata": {},
   "outputs": [
    {
     "data": {
      "text/plain": [
       "array([], dtype=object)"
      ]
     },
     "execution_count": 25,
     "metadata": {},
     "output_type": "execute_result"
    }
   ],
   "source": [
    "# previous levelups datetime\n",
    "levelups_ref[\"event_datetime_prev\"] = levelups_ref.groupby([\"player_slug\",\"character_slug\"])[\"event_datetime\"].shift(1)\n",
    "\n",
    "# when level_from is 1 and level_to is 2\n",
    "tmp = logins_c.groupby([\"player_slug\",\"character_slug\"])[\"event_datetime\"].min().to_frame(\"first_login_datetime\").reset_index()\n",
    "levelups_ref = pd.merge(levelups_ref, tmp, how=\"left\")\n",
    "levelups_ref[\"event_datetime_prev\"] = np.where(levelups_ref[\"event_datetime_prev\"]==levelups_ref[\"event_datetime_prev\"],\n",
    "                                               levelups_ref[\"event_datetime_prev\"], levelups_ref[\"first_login_datetime\"])\n",
    "\n",
    "# calculate interval\n",
    "levelups_ref[\"interval\"] = levelups_ref[\"event_datetime\"] - levelups_ref[\"event_datetime_prev\"]\n",
    "levelups_ref[\"interval\"] = levelups_ref[\"interval\"].apply(lambda x: (x.total_seconds()+1)/3600)\n",
    "levelups_ref.drop(columns=[\"first_login_datetime\"], inplace=True)\n",
    "\n",
    "levelups_ref.query(\"interval<0 | interval!=interval\").player_slug.unique() # error check"
   ]
  },
  {
   "cell_type": "code",
   "execution_count": 26,
   "metadata": {},
   "outputs": [
    {
     "data": {
      "text/html": [
       "<div>\n",
       "<style scoped>\n",
       "    .dataframe tbody tr th:only-of-type {\n",
       "        vertical-align: middle;\n",
       "    }\n",
       "\n",
       "    .dataframe tbody tr th {\n",
       "        vertical-align: top;\n",
       "    }\n",
       "\n",
       "    .dataframe thead th {\n",
       "        text-align: right;\n",
       "    }\n",
       "</style>\n",
       "<table border=\"1\" class=\"dataframe\">\n",
       "  <thead>\n",
       "    <tr style=\"text-align: right;\">\n",
       "      <th></th>\n",
       "      <th>interval</th>\n",
       "    </tr>\n",
       "  </thead>\n",
       "  <tbody>\n",
       "    <tr>\n",
       "      <th>count</th>\n",
       "      <td>2.466997e+06</td>\n",
       "    </tr>\n",
       "    <tr>\n",
       "      <th>mean</th>\n",
       "      <td>1.110537e+00</td>\n",
       "    </tr>\n",
       "    <tr>\n",
       "      <th>std</th>\n",
       "      <td>2.624410e+01</td>\n",
       "    </tr>\n",
       "    <tr>\n",
       "      <th>min</th>\n",
       "      <td>2.777778e-04</td>\n",
       "    </tr>\n",
       "    <tr>\n",
       "      <th>25%</th>\n",
       "      <td>1.000000e-02</td>\n",
       "    </tr>\n",
       "    <tr>\n",
       "      <th>50%</th>\n",
       "      <td>2.361111e-02</td>\n",
       "    </tr>\n",
       "    <tr>\n",
       "      <th>75%</th>\n",
       "      <td>4.305556e-02</td>\n",
       "    </tr>\n",
       "    <tr>\n",
       "      <th>max</th>\n",
       "      <td>3.164869e+03</td>\n",
       "    </tr>\n",
       "  </tbody>\n",
       "</table>\n",
       "</div>"
      ],
      "text/plain": [
       "           interval\n",
       "count  2.466997e+06\n",
       "mean   1.110537e+00\n",
       "std    2.624410e+01\n",
       "min    2.777778e-04\n",
       "25%    1.000000e-02\n",
       "50%    2.361111e-02\n",
       "75%    4.305556e-02\n",
       "max    3.164869e+03"
      ]
     },
     "execution_count": 26,
     "metadata": {},
     "output_type": "execute_result"
    }
   ],
   "source": [
    "levelups_ref[[\"interval\"]].describe()"
   ]
  },
  {
   "cell_type": "code",
   "execution_count": 27,
   "metadata": {},
   "outputs": [],
   "source": [
    "# cumulative sum of intervals\n",
    "levelups_ref[\"interval_cum\"] = levelups_ref.groupby([\"player_slug\",\"character_slug\"])[\"interval\"].cumsum()"
   ]
  },
  {
   "cell_type": "markdown",
   "metadata": {},
   "source": [
    "* Export"
   ]
  },
  {
   "cell_type": "code",
   "execution_count": 28,
   "metadata": {},
   "outputs": [
    {
     "data": {
      "text/plain": [
       "59342"
      ]
     },
     "execution_count": 28,
     "metadata": {},
     "output_type": "execute_result"
    }
   ],
   "source": [
    "levelups_ref.player_slug.nunique()"
   ]
  },
  {
   "cell_type": "code",
   "execution_count": 29,
   "metadata": {},
   "outputs": [
    {
     "data": {
      "text/html": [
       "<div>\n",
       "<style scoped>\n",
       "    .dataframe tbody tr th:only-of-type {\n",
       "        vertical-align: middle;\n",
       "    }\n",
       "\n",
       "    .dataframe tbody tr th {\n",
       "        vertical-align: top;\n",
       "    }\n",
       "\n",
       "    .dataframe thead th {\n",
       "        text-align: right;\n",
       "    }\n",
       "</style>\n",
       "<table border=\"1\" class=\"dataframe\">\n",
       "  <thead>\n",
       "    <tr style=\"text-align: right;\">\n",
       "      <th></th>\n",
       "      <th>player_slug</th>\n",
       "      <th>character_slug</th>\n",
       "      <th>level_from</th>\n",
       "      <th>level_to</th>\n",
       "      <th>event_datetime</th>\n",
       "      <th>death</th>\n",
       "      <th>ad_revival</th>\n",
       "      <th>ad_item</th>\n",
       "      <th>ad_total</th>\n",
       "      <th>purchase</th>\n",
       "      <th>event_datetime_prev</th>\n",
       "      <th>interval</th>\n",
       "      <th>interval_cum</th>\n",
       "    </tr>\n",
       "  </thead>\n",
       "  <tbody>\n",
       "    <tr>\n",
       "      <th>0</th>\n",
       "      <td>2021-11-01T07:31:49.366Z</td>\n",
       "      <td>레드스완</td>\n",
       "      <td>1</td>\n",
       "      <td>2</td>\n",
       "      <td>2021-11-01 16:33:55</td>\n",
       "      <td>0.0</td>\n",
       "      <td>0.0</td>\n",
       "      <td>0.0</td>\n",
       "      <td>0.0</td>\n",
       "      <td>0.0</td>\n",
       "      <td>2021-11-01 16:33:19</td>\n",
       "      <td>0.010278</td>\n",
       "      <td>0.010278</td>\n",
       "    </tr>\n",
       "    <tr>\n",
       "      <th>1</th>\n",
       "      <td>2021-11-01T07:31:49.366Z</td>\n",
       "      <td>레드스완</td>\n",
       "      <td>2</td>\n",
       "      <td>3</td>\n",
       "      <td>2021-11-01 16:34:12</td>\n",
       "      <td>0.0</td>\n",
       "      <td>0.0</td>\n",
       "      <td>0.0</td>\n",
       "      <td>0.0</td>\n",
       "      <td>0.0</td>\n",
       "      <td>2021-11-01 16:33:55</td>\n",
       "      <td>0.005000</td>\n",
       "      <td>0.015278</td>\n",
       "    </tr>\n",
       "    <tr>\n",
       "      <th>2</th>\n",
       "      <td>2021-11-01T07:31:49.366Z</td>\n",
       "      <td>레드스완</td>\n",
       "      <td>3</td>\n",
       "      <td>4</td>\n",
       "      <td>2021-11-01 16:36:50</td>\n",
       "      <td>0.0</td>\n",
       "      <td>0.0</td>\n",
       "      <td>0.0</td>\n",
       "      <td>0.0</td>\n",
       "      <td>0.0</td>\n",
       "      <td>2021-11-01 16:34:12</td>\n",
       "      <td>0.044167</td>\n",
       "      <td>0.059444</td>\n",
       "    </tr>\n",
       "    <tr>\n",
       "      <th>3</th>\n",
       "      <td>2021-11-01T07:31:49.366Z</td>\n",
       "      <td>레드스완</td>\n",
       "      <td>4</td>\n",
       "      <td>5</td>\n",
       "      <td>2021-11-01 16:38:30</td>\n",
       "      <td>0.0</td>\n",
       "      <td>0.0</td>\n",
       "      <td>0.0</td>\n",
       "      <td>0.0</td>\n",
       "      <td>0.0</td>\n",
       "      <td>2021-11-01 16:36:50</td>\n",
       "      <td>0.028056</td>\n",
       "      <td>0.087500</td>\n",
       "    </tr>\n",
       "    <tr>\n",
       "      <th>4</th>\n",
       "      <td>2021-11-01T07:31:49.366Z</td>\n",
       "      <td>레드스완</td>\n",
       "      <td>5</td>\n",
       "      <td>6</td>\n",
       "      <td>2021-11-01 16:39:43</td>\n",
       "      <td>0.0</td>\n",
       "      <td>0.0</td>\n",
       "      <td>0.0</td>\n",
       "      <td>0.0</td>\n",
       "      <td>0.0</td>\n",
       "      <td>2021-11-01 16:38:30</td>\n",
       "      <td>0.020556</td>\n",
       "      <td>0.108056</td>\n",
       "    </tr>\n",
       "    <tr>\n",
       "      <th>...</th>\n",
       "      <td>...</td>\n",
       "      <td>...</td>\n",
       "      <td>...</td>\n",
       "      <td>...</td>\n",
       "      <td>...</td>\n",
       "      <td>...</td>\n",
       "      <td>...</td>\n",
       "      <td>...</td>\n",
       "      <td>...</td>\n",
       "      <td>...</td>\n",
       "      <td>...</td>\n",
       "      <td>...</td>\n",
       "      <td>...</td>\n",
       "    </tr>\n",
       "    <tr>\n",
       "      <th>2466992</th>\n",
       "      <td>2022-03-30T14:13:23.546Z</td>\n",
       "      <td>sheal</td>\n",
       "      <td>19</td>\n",
       "      <td>20</td>\n",
       "      <td>2022-03-30 23:56:33</td>\n",
       "      <td>0.0</td>\n",
       "      <td>0.0</td>\n",
       "      <td>0.0</td>\n",
       "      <td>0.0</td>\n",
       "      <td>0.0</td>\n",
       "      <td>2022-03-30 23:55:16</td>\n",
       "      <td>0.021667</td>\n",
       "      <td>0.705556</td>\n",
       "    </tr>\n",
       "    <tr>\n",
       "      <th>2466993</th>\n",
       "      <td>2022-03-30T06:19:53.643Z</td>\n",
       "      <td>반백살</td>\n",
       "      <td>36</td>\n",
       "      <td>37</td>\n",
       "      <td>2022-03-30 23:56:47</td>\n",
       "      <td>0.0</td>\n",
       "      <td>0.0</td>\n",
       "      <td>0.0</td>\n",
       "      <td>0.0</td>\n",
       "      <td>0.0</td>\n",
       "      <td>2022-03-30 23:46:38</td>\n",
       "      <td>0.169444</td>\n",
       "      <td>8.593889</td>\n",
       "    </tr>\n",
       "    <tr>\n",
       "      <th>2466994</th>\n",
       "      <td>2022-03-30T14:13:23.546Z</td>\n",
       "      <td>sheal</td>\n",
       "      <td>20</td>\n",
       "      <td>21</td>\n",
       "      <td>2022-03-30 23:57:47</td>\n",
       "      <td>0.0</td>\n",
       "      <td>0.0</td>\n",
       "      <td>0.0</td>\n",
       "      <td>0.0</td>\n",
       "      <td>0.0</td>\n",
       "      <td>2022-03-30 23:56:33</td>\n",
       "      <td>0.020833</td>\n",
       "      <td>0.726389</td>\n",
       "    </tr>\n",
       "    <tr>\n",
       "      <th>2466995</th>\n",
       "      <td>2022-03-30T14:13:23.546Z</td>\n",
       "      <td>sheal</td>\n",
       "      <td>21</td>\n",
       "      <td>22</td>\n",
       "      <td>2022-03-30 23:58:07</td>\n",
       "      <td>0.0</td>\n",
       "      <td>0.0</td>\n",
       "      <td>0.0</td>\n",
       "      <td>0.0</td>\n",
       "      <td>0.0</td>\n",
       "      <td>2022-03-30 23:57:47</td>\n",
       "      <td>0.005833</td>\n",
       "      <td>0.732222</td>\n",
       "    </tr>\n",
       "    <tr>\n",
       "      <th>2466996</th>\n",
       "      <td>2022-03-30T11:15:48.145Z</td>\n",
       "      <td>어리버리</td>\n",
       "      <td>94</td>\n",
       "      <td>95</td>\n",
       "      <td>2022-03-30 23:58:13</td>\n",
       "      <td>0.0</td>\n",
       "      <td>0.0</td>\n",
       "      <td>0.0</td>\n",
       "      <td>0.0</td>\n",
       "      <td>0.0</td>\n",
       "      <td>2022-03-30 23:56:14</td>\n",
       "      <td>0.033333</td>\n",
       "      <td>3.622222</td>\n",
       "    </tr>\n",
       "  </tbody>\n",
       "</table>\n",
       "<p>2466997 rows × 13 columns</p>\n",
       "</div>"
      ],
      "text/plain": [
       "                      player_slug character_slug  level_from  level_to  \\\n",
       "0        2021-11-01T07:31:49.366Z           레드스완           1         2   \n",
       "1        2021-11-01T07:31:49.366Z           레드스완           2         3   \n",
       "2        2021-11-01T07:31:49.366Z           레드스완           3         4   \n",
       "3        2021-11-01T07:31:49.366Z           레드스완           4         5   \n",
       "4        2021-11-01T07:31:49.366Z           레드스완           5         6   \n",
       "...                           ...            ...         ...       ...   \n",
       "2466992  2022-03-30T14:13:23.546Z          sheal          19        20   \n",
       "2466993  2022-03-30T06:19:53.643Z            반백살          36        37   \n",
       "2466994  2022-03-30T14:13:23.546Z          sheal          20        21   \n",
       "2466995  2022-03-30T14:13:23.546Z          sheal          21        22   \n",
       "2466996  2022-03-30T11:15:48.145Z           어리버리          94        95   \n",
       "\n",
       "             event_datetime  death  ad_revival  ad_item  ad_total  purchase  \\\n",
       "0       2021-11-01 16:33:55    0.0         0.0      0.0       0.0       0.0   \n",
       "1       2021-11-01 16:34:12    0.0         0.0      0.0       0.0       0.0   \n",
       "2       2021-11-01 16:36:50    0.0         0.0      0.0       0.0       0.0   \n",
       "3       2021-11-01 16:38:30    0.0         0.0      0.0       0.0       0.0   \n",
       "4       2021-11-01 16:39:43    0.0         0.0      0.0       0.0       0.0   \n",
       "...                     ...    ...         ...      ...       ...       ...   \n",
       "2466992 2022-03-30 23:56:33    0.0         0.0      0.0       0.0       0.0   \n",
       "2466993 2022-03-30 23:56:47    0.0         0.0      0.0       0.0       0.0   \n",
       "2466994 2022-03-30 23:57:47    0.0         0.0      0.0       0.0       0.0   \n",
       "2466995 2022-03-30 23:58:07    0.0         0.0      0.0       0.0       0.0   \n",
       "2466996 2022-03-30 23:58:13    0.0         0.0      0.0       0.0       0.0   \n",
       "\n",
       "        event_datetime_prev  interval  interval_cum  \n",
       "0       2021-11-01 16:33:19  0.010278      0.010278  \n",
       "1       2021-11-01 16:33:55  0.005000      0.015278  \n",
       "2       2021-11-01 16:34:12  0.044167      0.059444  \n",
       "3       2021-11-01 16:36:50  0.028056      0.087500  \n",
       "4       2021-11-01 16:38:30  0.020556      0.108056  \n",
       "...                     ...       ...           ...  \n",
       "2466992 2022-03-30 23:55:16  0.021667      0.705556  \n",
       "2466993 2022-03-30 23:46:38  0.169444      8.593889  \n",
       "2466994 2022-03-30 23:56:33  0.020833      0.726389  \n",
       "2466995 2022-03-30 23:57:47  0.005833      0.732222  \n",
       "2466996 2022-03-30 23:56:14  0.033333      3.622222  \n",
       "\n",
       "[2466997 rows x 13 columns]"
      ]
     },
     "execution_count": 29,
     "metadata": {},
     "output_type": "execute_result"
    }
   ],
   "source": [
    "levelups_ref = levelups_ref.sort_values(by=[\"event_datetime\",\"level_from\"]).reset_index(drop=True) # several leveups can happen at once\n",
    "levelups_ref"
   ]
  },
  {
   "cell_type": "code",
   "execution_count": 30,
   "metadata": {},
   "outputs": [],
   "source": [
    "levelups_ref.to_csv(\"../data/levelups_panel_1.csv\", index=None, encoding=\"utf-8\")"
   ]
  }
 ],
 "metadata": {
  "kernelspec": {
   "display_name": "Python 3",
   "language": "python",
   "name": "python3"
  },
  "language_info": {
   "codemirror_mode": {
    "name": "ipython",
    "version": 3
   },
   "file_extension": ".py",
   "mimetype": "text/x-python",
   "name": "python",
   "nbconvert_exporter": "python",
   "pygments_lexer": "ipython3",
   "version": "3.11.6"
  }
 },
 "nbformat": 4,
 "nbformat_minor": 5
}

{
 "cells": [
  {
   "cell_type": "markdown",
   "metadata": {},
   "source": [
    "## Objectives\n",
    "- 플레이 로그 테이블들 8개에 대해서 앞서 select된 sample player들의 로그만 선택한다.\n",
    "- 이들을 모두 합쳐서 stages.csv 파일로 저장한다.\n",
    "- characters_stages_n.csv 파일들이 기본적으로 용량이 커서 이 작업은 연구실 PC로 실시했다."
   ]
  },
  {
   "cell_type": "code",
   "execution_count": 1,
   "metadata": {},
   "outputs": [],
   "source": [
    "from config import *"
   ]
  },
  {
   "cell_type": "code",
   "execution_count": 2,
   "metadata": {},
   "outputs": [],
   "source": [
    "players = pd.read_csv(\"../data/sample_players.csv\", encoding=\"utf-8\")"
   ]
  },
  {
   "cell_type": "code",
   "execution_count": 3,
   "metadata": {},
   "outputs": [
    {
     "data": {
      "text/plain": [
       "72599"
      ]
     },
     "execution_count": 3,
     "metadata": {},
     "output_type": "execute_result"
    }
   ],
   "source": [
    "len(players)"
   ]
  },
  {
   "cell_type": "markdown",
   "metadata": {},
   "source": [
    "* raw stage 파일들을 로컬 PC에서 data/stages 폴더 안에 넣어두었다."
   ]
  },
  {
   "cell_type": "code",
   "execution_count": 4,
   "metadata": {},
   "outputs": [
    {
     "name": "stdout",
     "output_type": "stream",
     "text": [
      "1 before: 29511683\n",
      "1 after: 9821368\n",
      "2 before: 29837309\n",
      "2 after: 5744879\n",
      "3 before: 29743040\n",
      "3 after: 4246623\n",
      "4 before: 29490492\n",
      "4 after: 3578131\n",
      "5 before: 29711296\n",
      "5 after: 6445664\n",
      "6 before: 27854800\n",
      "6 after: 5157820\n",
      "7 before: 114\n",
      "7 after: 100\n"
     ]
    }
   ],
   "source": [
    "for n in range(1,8):\n",
    "    n_stage = str(n)\n",
    "    stages = pd.read_csv(\"../data/stages/characters_stages_\"+n_stage+\".csv\").drop(columns=[\"id\"])\n",
    "    stages = simple_preprocess(stages)\n",
    "    print(n, \"before:\", len(stages))\n",
    "    \n",
    "    stages = stages[stages[\"player_slug\"].isin(players[\"player_slug\"].unique())]\n",
    "    stages = stages.drop_duplicates().reset_index(drop=True)\n",
    "    print(n, \"after:\", len(stages))\n",
    "    \n",
    "    stages.to_csv(\"../data/stages/characters_stages_\"+n_stage+\"_ref.csv\", index=None, encoding=\"utf-8\")"
   ]
  },
  {
   "cell_type": "markdown",
   "metadata": {},
   "source": [
    "* Concat at once"
   ]
  },
  {
   "cell_type": "code",
   "execution_count": 5,
   "metadata": {},
   "outputs": [],
   "source": [
    "stages = pd.concat(map(pd.read_csv, ['../data/stages/characters_stages_1_ref.csv','../data/stages/characters_stages_2_ref.csv',\n",
    "                                     '../data/stages/characters_stages_3_ref.csv','../data/stages/characters_stages_4_ref.csv',\n",
    "                                     '../data/stages/characters_stages_5_ref.csv','../data/stages/characters_stages_6_ref.csv',\n",
    "                                     '../data/stages/characters_stages_7_ref.csv']))"
   ]
  },
  {
   "cell_type": "code",
   "execution_count": 6,
   "metadata": {},
   "outputs": [
    {
     "data": {
      "text/plain": [
       "34994585"
      ]
     },
     "execution_count": 6,
     "metadata": {},
     "output_type": "execute_result"
    }
   ],
   "source": [
    "len(stages)"
   ]
  },
  {
   "cell_type": "code",
   "execution_count": 7,
   "metadata": {},
   "outputs": [],
   "source": [
    "stages = stages.drop_duplicates().sort_values(by=\"event_datetime\")"
   ]
  },
  {
   "cell_type": "code",
   "execution_count": 8,
   "metadata": {},
   "outputs": [
    {
     "data": {
      "text/plain": [
       "34994555"
      ]
     },
     "execution_count": 8,
     "metadata": {},
     "output_type": "execute_result"
    }
   ],
   "source": [
    "len(stages)"
   ]
  },
  {
   "cell_type": "code",
   "execution_count": 9,
   "metadata": {},
   "outputs": [],
   "source": [
    "stages.to_csv(\"../data/stages.csv\", index=None, encoding=\"utf-8\")"
   ]
  }
 ],
 "metadata": {
  "kernelspec": {
   "display_name": "Python 3",
   "language": "python",
   "name": "python3"
  },
  "language_info": {
   "codemirror_mode": {
    "name": "ipython",
    "version": 3
   },
   "file_extension": ".py",
   "mimetype": "text/x-python",
   "name": "python",
   "nbconvert_exporter": "python",
   "pygments_lexer": "ipython3",
   "version": "3.8.5"
  }
 },
 "nbformat": 4,
 "nbformat_minor": 5
}

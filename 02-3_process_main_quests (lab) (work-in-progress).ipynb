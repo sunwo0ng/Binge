{
 "cells": [
  {
   "cell_type": "markdown",
   "metadata": {},
   "source": [
    "## Objectives\n",
    "- Side quests에 이어서 main quest 플레이 시간을 proxy 해보고자 한다.\n",
    "- 로그인 시간은 알아도, 로그아웃 시간을 모르기 때문에, 바로 다음 로그인 직전 발생한 마지막 transation timestamp를 활용하고자 했다.\n",
    "- 이 노트북은 특히 미완이고, 개선의 여지가 많으며, 이후 노트북에서 아직 활용하고 있지는 않다."
   ]
  },
  {
   "cell_type": "code",
   "execution_count": 1,
   "metadata": {},
   "outputs": [],
   "source": [
    "from config import *"
   ]
  },
  {
   "cell_type": "code",
   "execution_count": 2,
   "metadata": {},
   "outputs": [],
   "source": [
    "levelups_ref = pd.read_csv(\"../data/levelups_panel_2.csv\", encoding=\"utf-8\")\n",
    "levelups_ref[\"event_datetime\"] = pd.to_datetime(levelups_ref[\"event_datetime\"])\n",
    "levelups_ref[\"event_datetime_prev\"] = pd.to_datetime(levelups_ref[\"event_datetime_prev\"])\n",
    "levelups_ref = levelups_ref.sort_values(by=[\"event_datetime_prev\",\"event_datetime\",\"level_from\"]).reset_index(drop=True) # several leveups can happen at once"
   ]
  },
  {
   "cell_type": "markdown",
   "metadata": {},
   "source": [
    "### Login history"
   ]
  },
  {
   "cell_type": "code",
   "execution_count": 4,
   "metadata": {},
   "outputs": [],
   "source": [
    "l_sample = levelups_ref.player_slug.unique()"
   ]
  },
  {
   "cell_type": "code",
   "execution_count": 5,
   "metadata": {},
   "outputs": [],
   "source": [
    "# login history: character\n",
    "logins = pd.read_csv(\"../data/characters_login.csv\", encoding=\"utf-8\")\n",
    "logins.drop(columns=[\"id\",\"player_id\",\"character_id\",\"event_timestamp\"], inplace=True)\n",
    "logins = simple_preprocess(logins)\n",
    "\n",
    "logins = logins.query(\"player_slug in @l_sample\").reset_index(drop=True)"
   ]
  },
  {
   "cell_type": "markdown",
   "metadata": {},
   "source": [
    "### Playing logs"
   ]
  },
  {
   "cell_type": "code",
   "execution_count": 6,
   "metadata": {},
   "outputs": [],
   "source": [
    "# purchase history\n",
    "purchases = pd.read_csv(\"../data/purchases.csv\", encoding=\"utf-8\")[[\"player_slug\",\"character_slug\",\"event_datetime\"]]\n",
    "purchases = simple_preprocess(purchases)\n",
    "purchases = purchases.query(\"player_slug in @l_sample\").reset_index(drop=True)\n",
    "\n",
    "# ads watching history\n",
    "ads = pd.read_csv(\"../data/characters_ads.csv\", encoding=\"utf-8\")[[\"player_slug\",\"character_slug\",\"event_datetime\"]]\n",
    "ads = simple_preprocess(ads)\n",
    "ads = ads.query(\"player_slug in @l_sample\").reset_index(drop=True)\n",
    "\n",
    "# stages\n",
    "stages = pd.read_csv(\"../data/stages.csv\", encoding=\"utf-8\")[[\"player_slug\",\"character_slug\",\"event_datetime\"]]\n",
    "stages[\"event_datetime\"] = pd.to_datetime(stages[\"event_datetime\"])\n",
    "stages = stages.query(\"player_slug in @l_sample\").reset_index(drop=True)"
   ]
  },
  {
   "cell_type": "code",
   "execution_count": 7,
   "metadata": {},
   "outputs": [],
   "source": [
    "# currency get history\n",
    "cur_get = pd.read_csv(\"../data/characters_currencies_get.csv\", encoding=\"utf-8\")[[\"player_slug\",\"character_slug\",\"event_datetime\"]]\n",
    "cur_get = simple_preprocess(cur_get)\n",
    "cur_get = cur_get.query(\"player_slug in @l_sample\").reset_index(drop=True)\n",
    "cur_get = cur_get.query(\"character_slug!='_DUMMY_CHARACTER_ID_'\").reset_index(drop=True)\n",
    "\n",
    "# consumable get history\n",
    "con_get = pd.read_csv(\"../data/characters_items_consumable_get.csv\", encoding=\"utf-8\")[[\"player_slug\",\"character_slug\",\"event_datetime\"]]\n",
    "con_get = simple_preprocess(con_get)\n",
    "con_get = con_get.query(\"player_slug in @l_sample\").reset_index(drop=True)\n",
    "\n",
    "# skill equipment history\n",
    "skill_eq = pd.read_csv(\"../data/characters_skills_equip.csv\", encoding=\"utf-8\")[[\"player_slug\",\"character_slug\",\"event_datetime\"]]\n",
    "skill_eq = simple_preprocess(skill_eq)\n",
    "skill_eq = skill_eq.query(\"player_slug in @l_sample\").reset_index(drop=True)\n",
    "\n",
    "# skill equipment history\n",
    "skill_lv = pd.read_csv(\"../data/characters_skills_levelup.csv\", encoding=\"utf-8\")[[\"player_slug\",\"character_slug\",\"event_datetime\"]]\n",
    "skill_lv = simple_preprocess(skill_lv)\n",
    "skill_lv = skill_lv.query(\"player_slug in @l_sample\").reset_index(drop=True)\n",
    "\n",
    "# stat change history\n",
    "stat = pd.read_csv(\"../data/characters_stats_change.csv\", encoding=\"utf-8\")[[\"player_slug\",\"character_slug\",\"event_datetime\"]]\n",
    "stat = simple_preprocess(stat)\n",
    "stat = stat.query(\"player_slug in @l_sample\").reset_index(drop=True)"
   ]
  },
  {
   "cell_type": "code",
   "execution_count": 8,
   "metadata": {},
   "outputs": [],
   "source": [
    "tx = pd.concat([purchases, ads, stages, cur_get, con_get, skill_eq, skill_lv, stat])\n",
    "tx = tx.sort_values(by=\"event_datetime\").reset_index(drop=True)"
   ]
  },
  {
   "cell_type": "code",
   "execution_count": 9,
   "metadata": {},
   "outputs": [],
   "source": [
    "del stages, cur_get, con_get, skill_eq, skill_lv, stat"
   ]
  },
  {
   "cell_type": "markdown",
   "metadata": {},
   "source": [
    "### Main quests playing time in hours"
   ]
  },
  {
   "cell_type": "markdown",
   "metadata": {},
   "source": [
    "* <code>playtime_main</code>: Actual playing time of the main quest in hours before progressing to the next level"
   ]
  },
  {
   "cell_type": "code",
   "execution_count": 10,
   "metadata": {},
   "outputs": [],
   "source": [
    "# 가장 가까운 로그인\n",
    "tmp = logins.copy()\n",
    "tmp.rename(columns={\"event_datetime\":\"event_datetime_prev\"}, inplace=True)\n",
    "tmp[\"login_dt_1\"] = tmp[\"event_datetime_prev\"]\n",
    "levelups_ref = pd.merge_asof(levelups_ref, tmp, on=\"event_datetime_prev\", by=[\"player_slug\",\"character_slug\"],\n",
    "                             direction=\"forward\", allow_exact_matches=False)"
   ]
  },
  {
   "cell_type": "code",
   "execution_count": 11,
   "metadata": {
    "scrolled": false
   },
   "outputs": [
    {
     "name": "stdout",
     "output_type": "stream",
     "text": [
      "1574633\n",
      "93431\n"
     ]
    }
   ],
   "source": [
    "print(len(levelups_ref.query(\"event_datetime <= login_dt_1\")))\n",
    "print(len(levelups_ref.query(\"event_datetime > login_dt_1\")))"
   ]
  },
  {
   "cell_type": "markdown",
   "metadata": {},
   "source": [
    "* 레벨업하는 데까지 소요된 시간(interval) 중에 새로운 로그인(login_dt_1)이 없었던 경우"
   ]
  },
  {
   "cell_type": "code",
   "execution_count": 12,
   "metadata": {
    "scrolled": true
   },
   "outputs": [
    {
     "name": "stdout",
     "output_type": "stream",
     "text": [
      "30087\n"
     ]
    }
   ],
   "source": [
    "levelups_ref_comp = levelups_ref.query(\"event_datetime <= login_dt_1\").copy()\n",
    "print(levelups_ref_comp.player_slug.nunique())\n",
    "\n",
    "# 인터벌에서 사이드 플레이 시간 제외\n",
    "levelups_ref_comp[\"playtime_main\"] = levelups_ref_comp[\"interval\"] - levelups_ref_comp[\"playtime_side\"]"
   ]
  },
  {
   "cell_type": "code",
   "execution_count": 13,
   "metadata": {
    "scrolled": true
   },
   "outputs": [
    {
     "name": "stdout",
     "output_type": "stream",
     "text": [
      "3329\n",
      "3908\n",
      "3939\n",
      "3939\n"
     ]
    }
   ],
   "source": [
    "# 로그인 기록 누락 의심되는 플레이어들\n",
    "l_error = []\n",
    "\n",
    "# 레벨 100 아래에서 1.5시간 넘게 소요된 플레이어\n",
    "l_error = l_error + levelups_ref_comp.query(\"level_to<100 & playtime_main>1.5\").player_slug.unique().tolist()\n",
    "print(len(list(set(l_error))))\n",
    "\n",
    "# 레벨 150 아래에서 3시간 넘게 소요된 플레이어\n",
    "l_error = l_error + levelups_ref_comp.query(\"100<=level_to<150 & playtime_main>3\").player_slug.unique().tolist()\n",
    "print(len(list(set(l_error))))\n",
    "\n",
    "# 레벨 200 아래에서 6시간 넘게 소요된 플레이어\n",
    "l_error = l_error + levelups_ref_comp.query(\"150<=level_to<200 & playtime_main>6\").player_slug.unique().tolist()\n",
    "print(len(list(set(l_error))))\n",
    "\n",
    "# 레벨 250 아래에서 12시간 넘게 소요된 플레이어\n",
    "l_error = l_error + levelups_ref_comp.query(\"150<=level_to<200 & playtime_main>12\").player_slug.unique().tolist()\n",
    "print(len(list(set(l_error))))"
   ]
  },
  {
   "cell_type": "code",
   "execution_count": 14,
   "metadata": {},
   "outputs": [],
   "source": [
    "# 로그인 오류 의심 플레이어 제외\n",
    "levelups_ref = levelups_ref.query(\"player_slug not in @l_error\").reset_index(drop=True)\n",
    "\n",
    "levelups_ref_comp = levelups_ref.query(\"event_datetime <= login_dt_1\").copy()\n",
    "levelups_ref_comp[\"playtime_main\"] = levelups_ref_comp[\"interval\"] - levelups_ref_comp[\"playtime_side\"]"
   ]
  },
  {
   "cell_type": "code",
   "execution_count": 15,
   "metadata": {
    "scrolled": true
   },
   "outputs": [],
   "source": [
    "levelups_ref_comp.drop(columns=[\"login_dt_1\"], inplace=True)"
   ]
  },
  {
   "cell_type": "code",
   "execution_count": 16,
   "metadata": {
    "scrolled": false
   },
   "outputs": [
    {
     "data": {
      "image/png": "[encoded data removed]",
      "text/plain": [
       "<Figure size 640x480 with 1 Axes>"
      ]
     },
     "metadata": {},
     "output_type": "display_data"
    }
   ],
   "source": [
    "levelups_ref_comp.groupby(\"level_to\")[\"playtime_main\"].mean().plot()\n",
    "plt.show()"
   ]
  },
  {
   "cell_type": "markdown",
   "metadata": {},
   "source": [
    "* 레벨업하는 데까지 소요된 시간(interval) 중에 새로운 로그인(login_dt_1)이 있었던 경우"
   ]
  },
  {
   "cell_type": "code",
   "execution_count": 17,
   "metadata": {},
   "outputs": [
    {
     "data": {
      "text/plain": [
       "24280"
      ]
     },
     "execution_count": 17,
     "metadata": {},
     "output_type": "execute_result"
    }
   ],
   "source": [
    "levelups_ref_prog = levelups_ref.query(\"event_datetime > login_dt_1\").copy()\n",
    "levelups_ref_prog.player_slug.nunique()"
   ]
  },
  {
   "cell_type": "code",
   "execution_count": 18,
   "metadata": {
    "scrolled": true
   },
   "outputs": [
    {
     "name": "stdout",
     "output_type": "stream",
     "text": [
      "19730\n",
      "23090\n",
      "23975\n",
      "24195\n"
     ]
    }
   ],
   "source": [
    "# 새로운 로그인 기록이 불필요하게 찍혔다고 판단되는 경우\n",
    "l_error = []\n",
    "\n",
    "# 레벨 100 아래에서 1.5시간 아래 소요된 플레이어\n",
    "l_error = l_error + levelups_ref_prog.query(\"level_to<100 & interval<=1.5\").index.tolist()\n",
    "print(len(l_error))\n",
    "\n",
    "# 레벨 150 아래에서 3시간 아래 소요된 플레이어\n",
    "l_error = l_error + levelups_ref_prog.query(\"100<=level_to<150 & interval<=3\").index.tolist()\n",
    "print(len(l_error))\n",
    "\n",
    "# 레벨 200 아래에서 6시간 아래 소요된 플레이어\n",
    "l_error = l_error + levelups_ref_prog.query(\"150<=level_to<200 & interval<=6\").index.tolist()\n",
    "print(len(l_error))\n",
    "\n",
    "# 레벨 250 아래에서 12시간 아래 소요된 플레이어\n",
    "l_error = l_error + levelups_ref_prog.query(\"200<=level_to<250 & interval<=12\").index.tolist()\n",
    "print(len(l_error))\n",
    "\n",
    "\n",
    "# 위 행들은 그냥 levelups_ref_comp에 결합\n",
    "levelups_ref_prog_comp = levelups_ref_prog.loc[l_error]\n",
    "levelups_ref_prog_comp[\"playtime_main\"] = levelups_ref_prog_comp[\"interval\"] - levelups_ref_prog_comp[\"playtime_side\"]\n",
    "levelups_ref_prog_comp.drop(columns=[\"login_dt_1\"], inplace=True)\n",
    "levelups_ref_comp = pd.concat([levelups_ref_comp, levelups_ref_prog_comp]).sort_index()"
   ]
  },
  {
   "cell_type": "code",
   "execution_count": 19,
   "metadata": {},
   "outputs": [],
   "source": [
    "# 여전히 문제가 되는 행들\n",
    "levelups_ref_prog = levelups_ref_prog.drop(l_error)"
   ]
  },
  {
   "cell_type": "markdown",
   "metadata": {},
   "source": [
    "1) 다음 로그인이 있는지 체크 (단, 다음 로그인이 있다면 < event_datetime / 없다면 event_datetime - 본 로그인 사이 시간을 playtime_main에 추가)\n",
    "2) 이전 활동이 있는지 체크 (단, event_datetime_prev (혹은 직전 로그인) < 이전 활동 / 아니면 에러 처리)\n",
    "3) 이전 활동 - event_datetime_prev (혹은 직전 로그인) 사이 시간을 playtime_main에 추가"
   ]
  },
  {
   "cell_type": "code",
   "execution_count": 20,
   "metadata": {},
   "outputs": [],
   "source": [
    "def check_too_long_playing_time(lv, ptime):\n",
    "    if lv<100 and ptime>1.5:\n",
    "        return 1\n",
    "    elif lv<150 and ptime>3:\n",
    "        return 1\n",
    "    elif lv<200 and ptime>6:\n",
    "        return 1\n",
    "    elif lv<250 and ptime>12:\n",
    "        return 1\n",
    "    else:\n",
    "        return 0"
   ]
  },
  {
   "cell_type": "code",
   "execution_count": 21,
   "metadata": {},
   "outputs": [],
   "source": [
    "def calculate_actual_playing_time(row):\n",
    "    playtime = 0\n",
    "    \n",
    "    # 중간에 발생한 로그인들\n",
    "    logins_ = logins.query(\"player_slug==@row.player_slug & @row.event_datetime_prev<event_datetime<@row.event_datetime\")\n",
    "    logins_ = logins_[[\"event_datetime\"]].reset_index(drop=True)\n",
    "    \n",
    "    # 로그인이 1번만 발생한 경우\n",
    "    if len(logins_)==1:\n",
    "        # 해당 로그인 이전 가장 마지막으로 발생한 play log\n",
    "        tx_datetime = tx.query(\"player_slug==@row.player_slug & @row.event_datetime_prev<event_datetime<@logins_.event_datetime.min()\")\n",
    "        tx_datetime = tx_datetime[\"event_datetime\"].max()\n",
    "        \n",
    "        p1 = (tx_datetime - row[\"event_datetime_prev\"]).total_seconds() / 3600\n",
    "        if p1==p1 and check_too_long_playing_time(row[\"level_to\"], p1)==0:\n",
    "            playtime += p1\n",
    "        elif p1==p1 and check_too_long_playing_time(row[\"level_to\"], p1)==1:\n",
    "            playtime += 100000\n",
    "        \n",
    "        p2 = (row[\"event_datetime\"] - logins_[\"event_datetime\"].min()).total_seconds() / 3600\n",
    "        if p2==p2 and check_too_long_playing_time(row[\"level_to\"], p2)==0:\n",
    "            playtime += p2\n",
    "        elif p2==p2 and check_too_long_playing_time(row[\"level_to\"], p2)==1:\n",
    "            playtime += 100000\n",
    "    \n",
    "    # 로그인 2번 이상 발생한 경우\n",
    "    else:\n",
    "        login_datetime_prev = row[\"event_datetime_prev\"]\n",
    "        for login_idx, login_row in logins_.iterrows():\n",
    "            # 해당 로그인 이전 가장 마지막으로 발생한 play log\n",
    "            tx_datetime = tx.query(\"player_slug==@row.player_slug & @login_datetime_prev<event_datetime<@login_row.event_datetime\")\n",
    "            tx_datetime = tx_datetime[\"event_datetime\"].max()\n",
    "            \n",
    "            pn = (tx_datetime - login_datetime_prev).total_seconds() / 3600\n",
    "            if pn==pn and check_too_long_playing_time(row[\"level_to\"], pn)==0:\n",
    "                playtime += pn\n",
    "            elif pn==pn and check_too_long_playing_time(row[\"level_to\"], pn)==1:\n",
    "                playtime += 100000\n",
    "            \n",
    "            login_datetime_prev = login_row[\"event_datetime\"]\n",
    "        \n",
    "        # 가장 마지막 로그인 ~ event_datetime\n",
    "        pf = (row[\"event_datetime\"] - logins_[\"event_datetime\"].max()).total_seconds() / 3600\n",
    "        if pf==pf and check_too_long_playing_time(row[\"level_to\"], pf)==0:\n",
    "            playtime += pf\n",
    "        elif pf==pf and check_too_long_playing_time(row[\"level_to\"], pf)==1:\n",
    "            playtime += 100000\n",
    "    \n",
    "    return playtime - row[\"playtime_side\"]"
   ]
  },
  {
   "cell_type": "code",
   "execution_count": 22,
   "metadata": {},
   "outputs": [
    {
     "name": "stderr",
     "output_type": "stream",
     "text": [
      "100%|██████████████████████████████████████████████████████████████████████████| 47254/47254 [3:13:05<00:00,  4.08it/s]\n"
     ]
    }
   ],
   "source": [
    "levelups_ref_prog[\"playtime_main\"] = levelups_ref_prog.progress_apply(calculate_actual_playing_time, axis=1)"
   ]
  },
  {
   "cell_type": "code",
   "execution_count": 23,
   "metadata": {},
   "outputs": [],
   "source": [
    "levelups_ref_prog.drop(columns=[\"login_dt_1\"], inplace=True)"
   ]
  },
  {
   "cell_type": "code",
   "execution_count": 24,
   "metadata": {},
   "outputs": [
    {
     "name": "stdout",
     "output_type": "stream",
     "text": [
      "1456\n"
     ]
    }
   ],
   "source": [
    "# 로그인 오류 의심 플레이어 제외\n",
    "l_error = levelups_ref_prog.query(\"playtime_main>10000\").player_slug.unique()\n",
    "print(len(l_error))\n",
    "\n",
    "levelups_ref_comp = levelups_ref_comp.query(\"player_slug not in @l_error\").reset_index(drop=True)\n",
    "levelups_ref_prog = levelups_ref_prog.query(\"player_slug not in @l_error\").reset_index(drop=True)"
   ]
  },
  {
   "cell_type": "markdown",
   "metadata": {},
   "source": [
    "### Concatenation"
   ]
  },
  {
   "cell_type": "code",
   "execution_count": 25,
   "metadata": {},
   "outputs": [],
   "source": [
    "levelups_ref_3 = pd.concat([levelups_ref_comp, levelups_ref_prog]).sort_index().reset_index(drop=True)"
   ]
  },
  {
   "cell_type": "code",
   "execution_count": 26,
   "metadata": {},
   "outputs": [
    {
     "data": {
      "text/plain": [
       "25668"
      ]
     },
     "execution_count": 26,
     "metadata": {},
     "output_type": "execute_result"
    }
   ],
   "source": [
    "levelups_ref_3[\"player_slug\"].nunique()"
   ]
  },
  {
   "cell_type": "code",
   "execution_count": 27,
   "metadata": {
    "scrolled": false
   },
   "outputs": [
    {
     "data": {
      "image/png": "[encoded data removed]",
      "text/plain": [
       "<Figure size 640x480 with 1 Axes>"
      ]
     },
     "metadata": {},
     "output_type": "display_data"
    }
   ],
   "source": [
    "levelups_ref_3.groupby(\"level_to\")[\"playtime_main\"].mean().plot()\n",
    "plt.show()"
   ]
  },
  {
   "cell_type": "code",
   "execution_count": 28,
   "metadata": {},
   "outputs": [
    {
     "name": "stdout",
     "output_type": "stream",
     "text": [
      "1\n"
     ]
    }
   ],
   "source": [
    "# final check: playtime more than 12 hours\n",
    "l_error = levelups_ref_3.query(\"playtime_main > 12\")[\"player_slug\"].unique()\n",
    "print(len(l_error))\n",
    "\n",
    "levelups_ref_3 = levelups_ref_3.query(\"player_slug not in @l_error\").reset_index(drop=True)"
   ]
  },
  {
   "cell_type": "code",
   "execution_count": 29,
   "metadata": {},
   "outputs": [
    {
     "data": {
      "text/plain": [
       "count    1.141203e+06\n",
       "mean     5.853241e-02\n",
       "std      2.056963e-01\n",
       "min      2.777778e-04\n",
       "25%      9.722222e-03\n",
       "50%      2.305556e-02\n",
       "75%      4.055556e-02\n",
       "max      1.190222e+01\n",
       "Name: playtime_main, dtype: float64"
      ]
     },
     "execution_count": 29,
     "metadata": {},
     "output_type": "execute_result"
    }
   ],
   "source": [
    "levelups_ref_3[\"playtime_main\"].describe()"
   ]
  },
  {
   "cell_type": "markdown",
   "metadata": {},
   "source": [
    "* Export"
   ]
  },
  {
   "cell_type": "code",
   "execution_count": 7,
   "metadata": {},
   "outputs": [],
   "source": [
    "levelups_ref_3.to_csv(\"../data/levelups_panel_3.csv\", index=None, encoding=\"utf-8\")"
   ]
  }
 ],
 "metadata": {
  "kernelspec": {
   "display_name": "Python 3",
   "language": "python",
   "name": "python3"
  },
  "language_info": {
   "codemirror_mode": {
    "name": "ipython",
    "version": 3
   },
   "file_extension": ".py",
   "mimetype": "text/x-python",
   "name": "python",
   "nbconvert_exporter": "python",
   "pygments_lexer": "ipython3",
   "version": "3.8.5"
  }
 },
 "nbformat": 4,
 "nbformat_minor": 5
}
